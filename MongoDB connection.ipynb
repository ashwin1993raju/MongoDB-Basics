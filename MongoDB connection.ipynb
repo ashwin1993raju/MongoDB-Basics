{
 "cells": [
  {
   "cell_type": "markdown",
   "metadata": {},
   "source": [
    "# M001: MongoDB Basics"
   ]
  },
  {
   "cell_type": "code",
   "execution_count": 2,
   "metadata": {},
   "outputs": [],
   "source": [
    "# insert data\n",
    "# lets insert a new document in a new collection.\n",
    "# so, we don't have to write a new query to create a new collection.\n",
    "\n",
    "db = client.sample_training\n",
    "\n",
    "new= db.collect.insert_many([{\"name\": \"Ashwin\"}, {\"name\": \"Raju\"}, {\"name\": \"yashik\"}])\n"
   ]
  },
  {
   "cell_type": "code",
   "execution_count": 3,
   "metadata": {},
   "outputs": [],
   "source": [
    "view= db.colect.find_one({})\n"
   ]
  },
  {
   "cell_type": "code",
   "execution_count": 6,
   "metadata": {},
   "outputs": [],
   "source": [
    "from pprint import pprint"
   ]
  },
  {
   "cell_type": "code",
   "execution_count": 7,
   "metadata": {},
   "outputs": [
    {
     "name": "stdout",
     "output_type": "stream",
     "text": [
      "{'_id': ObjectId('5f8284a151abc98ca8aadf15'), 'name': 'Ashwin'}\n",
      "{'_id': ObjectId('5f8284a151abc98ca8aadf16'), 'name': 'Raju'}\n",
      "{'_id': ObjectId('5f8284a151abc98ca8aadf17'), 'name': 'yashik'}\n",
      "{'_id': ObjectId('5f8284cb51abc98ca8aadf18'), 'name': 'Ashwin'}\n",
      "{'_id': ObjectId('5f8284cb51abc98ca8aadf19'), 'name': 'Raju'}\n",
      "{'_id': ObjectId('5f8284cb51abc98ca8aadf1a'), 'name': 'yashik'}\n",
      "{'_id': ObjectId('5f8284eb51abc98ca8aadf1b'), 'name': 'Ashwin'}\n",
      "{'_id': ObjectId('5f8284eb51abc98ca8aadf1c'), 'name': 'Raju'}\n",
      "{'_id': ObjectId('5f8284eb51abc98ca8aadf1d'), 'name': 'yashik'}\n",
      "{'_id': 1, 'name': 'Martin'}\n",
      "{'_id': 2, 'name': 'Akesh'}\n",
      "{'_id': 3, 'name': 'Duke'}\n",
      "{'_id': ObjectId('5f82c5117bf129481827ea6b'), 'name': 'Ashwin'}\n",
      "{'_id': ObjectId('5f82c5117bf129481827ea6c'), 'name': 'Raju'}\n",
      "{'_id': ObjectId('5f82c5117bf129481827ea6d'), 'name': 'yashik'}\n"
     ]
    }
   ],
   "source": [
    "zp= db.collect.find({})\n",
    "\n",
    "for i in zp:\n",
    "    pprint(i)"
   ]
  },
  {
   "cell_type": "code",
   "execution_count": 34,
   "metadata": {},
   "outputs": [],
   "source": [
    "# from the above data we could see the same names repeated two times and we could not see any error regarding duplicate.\n",
    "\n",
    "dup= db.collect.insert_many([{\"_id\": 1, \"name\": \"Martin\"}, {\"_id\":2, \"name\": \"Akesh\"}, {\"_id\":3, \"name\": \"Duke\"}])"
   ]
  },
  {
   "cell_type": "code",
   "execution_count": 35,
   "metadata": {},
   "outputs": [
    {
     "name": "stdout",
     "output_type": "stream",
     "text": [
      "{'_id': ObjectId('5f8284a151abc98ca8aadf15'), 'name': 'Ashwin'}\n",
      "{'_id': ObjectId('5f8284a151abc98ca8aadf16'), 'name': 'Raju'}\n",
      "{'_id': ObjectId('5f8284a151abc98ca8aadf17'), 'name': 'yashik'}\n",
      "{'_id': ObjectId('5f8284cb51abc98ca8aadf18'), 'name': 'Ashwin'}\n",
      "{'_id': ObjectId('5f8284cb51abc98ca8aadf19'), 'name': 'Raju'}\n",
      "{'_id': ObjectId('5f8284cb51abc98ca8aadf1a'), 'name': 'yashik'}\n",
      "{'_id': ObjectId('5f8284eb51abc98ca8aadf1b'), 'name': 'Ashwin'}\n",
      "{'_id': ObjectId('5f8284eb51abc98ca8aadf1c'), 'name': 'Raju'}\n",
      "{'_id': ObjectId('5f8284eb51abc98ca8aadf1d'), 'name': 'yashik'}\n",
      "{'_id': 1, 'name': 'Martin'}\n",
      "{'_id': 2, 'name': 'Akesh'}\n",
      "{'_id': 3, 'name': 'Duke'}\n"
     ]
    }
   ],
   "source": [
    "zp_dup= db.collect.find()\n",
    "\n",
    "for i in zp_dup:\n",
    "    pprint(i)"
   ]
  },
  {
   "cell_type": "code",
   "execution_count": 36,
   "metadata": {},
   "outputs": [
    {
     "ename": "BulkWriteError",
     "evalue": "batch op errors occurred, full error: {'writeErrors': [{'index': 0, 'code': 11000, 'keyPattern': {'_id': 1}, 'keyValue': {'_id': 1}, 'errmsg': 'E11000 duplicate key error collection: sample_training.collect index: _id_ dup key: { _id: 1 }', 'op': {'_id': 1, 'name': 'Mar'}}], 'writeConcernErrors': [], 'nInserted': 0, 'nUpserted': 0, 'nMatched': 0, 'nModified': 0, 'nRemoved': 0, 'upserted': []}",
     "output_type": "error",
     "traceback": [
      "\u001b[1;31m---------------------------------------------------------------------------\u001b[0m",
      "\u001b[1;31mBulkWriteError\u001b[0m                            Traceback (most recent call last)",
      "\u001b[1;32m<ipython-input-36-59ef91773125>\u001b[0m in \u001b[0;36m<module>\u001b[1;34m\u001b[0m\n\u001b[0;32m      3\u001b[0m \u001b[1;31m#lets see what would happen if we insert new data with existing objectID\u001b[0m\u001b[1;33m\u001b[0m\u001b[1;33m\u001b[0m\u001b[1;33m\u001b[0m\u001b[0m\n\u001b[0;32m      4\u001b[0m \u001b[1;33m\u001b[0m\u001b[0m\n\u001b[1;32m----> 5\u001b[1;33m \u001b[0mdup_1\u001b[0m\u001b[1;33m=\u001b[0m \u001b[0mdb\u001b[0m\u001b[1;33m.\u001b[0m\u001b[0mcollect\u001b[0m\u001b[1;33m.\u001b[0m\u001b[0minsert_many\u001b[0m\u001b[1;33m(\u001b[0m\u001b[1;33m[\u001b[0m\u001b[1;33m{\u001b[0m\u001b[1;34m\"_id\"\u001b[0m\u001b[1;33m:\u001b[0m \u001b[1;36m1\u001b[0m\u001b[1;33m,\u001b[0m \u001b[1;34m\"name\"\u001b[0m\u001b[1;33m:\u001b[0m \u001b[1;34m\"Mar\"\u001b[0m\u001b[1;33m}\u001b[0m\u001b[1;33m,\u001b[0m \u001b[1;33m{\u001b[0m\u001b[1;34m\"_id\"\u001b[0m\u001b[1;33m:\u001b[0m\u001b[1;36m2\u001b[0m\u001b[1;33m,\u001b[0m \u001b[1;34m\"name\"\u001b[0m\u001b[1;33m:\u001b[0m \u001b[1;34m\"Ak\"\u001b[0m\u001b[1;33m}\u001b[0m\u001b[1;33m,\u001b[0m \u001b[1;33m{\u001b[0m\u001b[1;34m\"_id\"\u001b[0m\u001b[1;33m:\u001b[0m\u001b[1;36m3\u001b[0m\u001b[1;33m,\u001b[0m \u001b[1;34m\"name\"\u001b[0m\u001b[1;33m:\u001b[0m \u001b[1;34m\"Du\"\u001b[0m\u001b[1;33m}\u001b[0m\u001b[1;33m]\u001b[0m\u001b[1;33m)\u001b[0m\u001b[1;33m\u001b[0m\u001b[1;33m\u001b[0m\u001b[0m\n\u001b[0m",
      "\u001b[1;32m~\\anaconda3\\lib\\site-packages\\pymongo\\collection.py\u001b[0m in \u001b[0;36minsert_many\u001b[1;34m(self, documents, ordered, bypass_document_validation, session)\u001b[0m\n\u001b[0;32m    759\u001b[0m         \u001b[0mblk\u001b[0m \u001b[1;33m=\u001b[0m \u001b[0m_Bulk\u001b[0m\u001b[1;33m(\u001b[0m\u001b[0mself\u001b[0m\u001b[1;33m,\u001b[0m \u001b[0mordered\u001b[0m\u001b[1;33m,\u001b[0m \u001b[0mbypass_document_validation\u001b[0m\u001b[1;33m)\u001b[0m\u001b[1;33m\u001b[0m\u001b[1;33m\u001b[0m\u001b[0m\n\u001b[0;32m    760\u001b[0m         \u001b[0mblk\u001b[0m\u001b[1;33m.\u001b[0m\u001b[0mops\u001b[0m \u001b[1;33m=\u001b[0m \u001b[1;33m[\u001b[0m\u001b[0mdoc\u001b[0m \u001b[1;32mfor\u001b[0m \u001b[0mdoc\u001b[0m \u001b[1;32min\u001b[0m \u001b[0mgen\u001b[0m\u001b[1;33m(\u001b[0m\u001b[1;33m)\u001b[0m\u001b[1;33m]\u001b[0m\u001b[1;33m\u001b[0m\u001b[1;33m\u001b[0m\u001b[0m\n\u001b[1;32m--> 761\u001b[1;33m         \u001b[0mblk\u001b[0m\u001b[1;33m.\u001b[0m\u001b[0mexecute\u001b[0m\u001b[1;33m(\u001b[0m\u001b[0mwrite_concern\u001b[0m\u001b[1;33m,\u001b[0m \u001b[0msession\u001b[0m\u001b[1;33m=\u001b[0m\u001b[0msession\u001b[0m\u001b[1;33m)\u001b[0m\u001b[1;33m\u001b[0m\u001b[1;33m\u001b[0m\u001b[0m\n\u001b[0m\u001b[0;32m    762\u001b[0m         \u001b[1;32mreturn\u001b[0m \u001b[0mInsertManyResult\u001b[0m\u001b[1;33m(\u001b[0m\u001b[0minserted_ids\u001b[0m\u001b[1;33m,\u001b[0m \u001b[0mwrite_concern\u001b[0m\u001b[1;33m.\u001b[0m\u001b[0macknowledged\u001b[0m\u001b[1;33m)\u001b[0m\u001b[1;33m\u001b[0m\u001b[1;33m\u001b[0m\u001b[0m\n\u001b[0;32m    763\u001b[0m \u001b[1;33m\u001b[0m\u001b[0m\n",
      "\u001b[1;32m~\\anaconda3\\lib\\site-packages\\pymongo\\bulk.py\u001b[0m in \u001b[0;36mexecute\u001b[1;34m(self, write_concern, session)\u001b[0m\n\u001b[0;32m    526\u001b[0m                 \u001b[0mself\u001b[0m\u001b[1;33m.\u001b[0m\u001b[0mexecute_no_results\u001b[0m\u001b[1;33m(\u001b[0m\u001b[0msock_info\u001b[0m\u001b[1;33m,\u001b[0m \u001b[0mgenerator\u001b[0m\u001b[1;33m)\u001b[0m\u001b[1;33m\u001b[0m\u001b[1;33m\u001b[0m\u001b[0m\n\u001b[0;32m    527\u001b[0m         \u001b[1;32melse\u001b[0m\u001b[1;33m:\u001b[0m\u001b[1;33m\u001b[0m\u001b[1;33m\u001b[0m\u001b[0m\n\u001b[1;32m--> 528\u001b[1;33m             \u001b[1;32mreturn\u001b[0m \u001b[0mself\u001b[0m\u001b[1;33m.\u001b[0m\u001b[0mexecute_command\u001b[0m\u001b[1;33m(\u001b[0m\u001b[0mgenerator\u001b[0m\u001b[1;33m,\u001b[0m \u001b[0mwrite_concern\u001b[0m\u001b[1;33m,\u001b[0m \u001b[0msession\u001b[0m\u001b[1;33m)\u001b[0m\u001b[1;33m\u001b[0m\u001b[1;33m\u001b[0m\u001b[0m\n\u001b[0m\u001b[0;32m    529\u001b[0m \u001b[1;33m\u001b[0m\u001b[0m\n\u001b[0;32m    530\u001b[0m \u001b[1;33m\u001b[0m\u001b[0m\n",
      "\u001b[1;32m~\\anaconda3\\lib\\site-packages\\pymongo\\bulk.py\u001b[0m in \u001b[0;36mexecute_command\u001b[1;34m(self, generator, write_concern, session)\u001b[0m\n\u001b[0;32m    361\u001b[0m \u001b[1;33m\u001b[0m\u001b[0m\n\u001b[0;32m    362\u001b[0m         \u001b[1;32mif\u001b[0m \u001b[0mfull_result\u001b[0m\u001b[1;33m[\u001b[0m\u001b[1;34m\"writeErrors\"\u001b[0m\u001b[1;33m]\u001b[0m \u001b[1;32mor\u001b[0m \u001b[0mfull_result\u001b[0m\u001b[1;33m[\u001b[0m\u001b[1;34m\"writeConcernErrors\"\u001b[0m\u001b[1;33m]\u001b[0m\u001b[1;33m:\u001b[0m\u001b[1;33m\u001b[0m\u001b[1;33m\u001b[0m\u001b[0m\n\u001b[1;32m--> 363\u001b[1;33m             \u001b[0m_raise_bulk_write_error\u001b[0m\u001b[1;33m(\u001b[0m\u001b[0mfull_result\u001b[0m\u001b[1;33m)\u001b[0m\u001b[1;33m\u001b[0m\u001b[1;33m\u001b[0m\u001b[0m\n\u001b[0m\u001b[0;32m    364\u001b[0m         \u001b[1;32mreturn\u001b[0m \u001b[0mfull_result\u001b[0m\u001b[1;33m\u001b[0m\u001b[1;33m\u001b[0m\u001b[0m\n\u001b[0;32m    365\u001b[0m \u001b[1;33m\u001b[0m\u001b[0m\n",
      "\u001b[1;32m~\\anaconda3\\lib\\site-packages\\pymongo\\bulk.py\u001b[0m in \u001b[0;36m_raise_bulk_write_error\u001b[1;34m(full_result)\u001b[0m\n\u001b[0;32m    138\u001b[0m         full_result[\"writeErrors\"].sort(\n\u001b[0;32m    139\u001b[0m             key=lambda error: error[\"index\"])\n\u001b[1;32m--> 140\u001b[1;33m     \u001b[1;32mraise\u001b[0m \u001b[0mBulkWriteError\u001b[0m\u001b[1;33m(\u001b[0m\u001b[0mfull_result\u001b[0m\u001b[1;33m)\u001b[0m\u001b[1;33m\u001b[0m\u001b[1;33m\u001b[0m\u001b[0m\n\u001b[0m\u001b[0;32m    141\u001b[0m \u001b[1;33m\u001b[0m\u001b[0m\n\u001b[0;32m    142\u001b[0m \u001b[1;33m\u001b[0m\u001b[0m\n",
      "\u001b[1;31mBulkWriteError\u001b[0m: batch op errors occurred, full error: {'writeErrors': [{'index': 0, 'code': 11000, 'keyPattern': {'_id': 1}, 'keyValue': {'_id': 1}, 'errmsg': 'E11000 duplicate key error collection: sample_training.collect index: _id_ dup key: { _id: 1 }', 'op': {'_id': 1, 'name': 'Mar'}}], 'writeConcernErrors': [], 'nInserted': 0, 'nUpserted': 0, 'nMatched': 0, 'nModified': 0, 'nRemoved': 0, 'upserted': []}"
     ]
    }
   ],
   "source": [
    "# here we have created new objectID with names. ObjectID's unique\n",
    "\n",
    "#lets see what would happen if we insert new data with existing objectID\n",
    "\n",
    "dup_1= db.collect.insert_many([{\"_id\": 1, \"name\": \"Mar\"}, {\"_id\":2, \"name\": \"Ak\"}, {\"_id\":3, \"name\": \"Du\"}])"
   ]
  },
  {
   "cell_type": "code",
   "execution_count": 41,
   "metadata": {},
   "outputs": [
    {
     "name": "stdout",
     "output_type": "stream",
     "text": [
      "{'_id': ObjectId('5f8284a151abc98ca8aadf15'), 'name': 'Ashwin'}\n",
      "{'_id': ObjectId('5f8284a151abc98ca8aadf16'), 'name': 'Raju'}\n",
      "{'_id': ObjectId('5f8284a151abc98ca8aadf17'), 'name': 'yashik'}\n",
      "{'_id': ObjectId('5f8284cb51abc98ca8aadf18'), 'name': 'Ashwin'}\n",
      "{'_id': ObjectId('5f8284cb51abc98ca8aadf19'), 'name': 'Raju'}\n",
      "{'_id': ObjectId('5f8284cb51abc98ca8aadf1a'), 'name': 'yashik'}\n",
      "{'_id': ObjectId('5f8284eb51abc98ca8aadf1b'), 'name': 'Ashwin'}\n",
      "{'_id': ObjectId('5f8284eb51abc98ca8aadf1c'), 'name': 'Raju'}\n",
      "{'_id': ObjectId('5f8284eb51abc98ca8aadf1d'), 'name': 'yashik'}\n",
      "{'_id': 1, 'name': 'Martin'}\n",
      "{'_id': 2, 'name': 'Akesh'}\n",
      "{'_id': 3, 'name': 'Duke'}\n"
     ]
    }
   ],
   "source": [
    "# we have received an error msg stating that \"E11000 duplicate key error collection: sample_training.collect index: _id_ dup key: { _id: 1 }\"\n",
    "\n",
    "zp_dup= db.collect.find()\n",
    "\n",
    "for i in zp_dup:\n",
    "    pprint(i)"
   ]
  },
  {
   "cell_type": "code",
   "execution_count": 8,
   "metadata": {},
   "outputs": [
    {
     "name": "stdout",
     "output_type": "stream",
     "text": [
      "{'_id': ObjectId('5f8284a151abc98ca8aadf15'), 'name': 'Ashwin'}\n",
      "{'_id': ObjectId('5f8284cb51abc98ca8aadf18'), 'name': 'Ashwin'}\n",
      "{'_id': ObjectId('5f8284eb51abc98ca8aadf1b'), 'name': 'Ashwin'}\n",
      "{'_id': ObjectId('5f82c5117bf129481827ea6b'), 'name': 'Ashwin'}\n"
     ]
    }
   ],
   "source": [
    "zp_find= db.collect.find({\"name\": \"Ashwin\"})\n",
    "\n",
    "from pprint import pprint\n",
    "\n",
    "for j in zp_find:\n",
    "    pprint(j)"
   ]
  },
  {
   "cell_type": "markdown",
   "metadata": {},
   "source": [
    "# Comparison Operator\n",
    "\n",
    "## \"$gt\" = greater than , \"$lt\" = lesser than, \"$gte\"= greater than equal to, \"$lte\"= lesser than equal to, \"$eq\"= equal to, \"$ne\"= not equal to"
   ]
  },
  {
   "cell_type": "raw",
   "metadata": {},
   "source": [
    "# syntax: {<field>: {<operator>: <value>}}"
   ]
  },
  {
   "cell_type": "code",
   "execution_count": 10,
   "metadata": {},
   "outputs": [
    {
     "name": "stdout",
     "output_type": "stream",
     "text": [
      "{'_id': ObjectId('572bb8232b288919b68af7cd'),\n",
      " 'bikeid': 23779,\n",
      " 'birth year': '',\n",
      " 'end station id': 460,\n",
      " 'end station location': {'coordinates': [-73.96590294, 40.71285887],\n",
      "                          'type': 'Point'},\n",
      " 'end station name': 'S 4 St & Wythe Ave',\n",
      " 'gender': 0,\n",
      " 'start station id': 460,\n",
      " 'start station location': {'coordinates': [-73.96590294, 40.71285887],\n",
      "                            'type': 'Point'},\n",
      " 'start station name': 'S 4 St & Wythe Ave',\n",
      " 'start time': datetime.datetime(2016, 1, 2, 11, 49, 11),\n",
      " 'stop time': datetime.datetime(2016, 1, 2, 11, 50, 18),\n",
      " 'tripduration': 66,\n",
      " 'usertype': 'Customer'}\n"
     ]
    }
   ],
   "source": [
    "# Find all documents where the tripduration was less than or equal to 70 seconds and the usertype was not Subscriber:\n",
    "\n",
    "trip= db.trips.find({\"tripduration\": {\"$lte\": 70}, \"usertype\": {\"$ne\": \"Subscriber\"}})\n",
    "\n",
    "for i in trip:\n",
    "    pprint(i)\n",
    "    \n",
    "# we got single document for the above query here trip duration is 66 and customer"
   ]
  },
  {
   "cell_type": "code",
   "execution_count": 12,
   "metadata": {},
   "outputs": [
    {
     "name": "stdout",
     "output_type": "stream",
     "text": [
      "{'_id': ObjectId('572bb8232b288919b68af7cd'),\n",
      " 'bikeid': 23779,\n",
      " 'birth year': '',\n",
      " 'end station id': 460,\n",
      " 'end station location': {'coordinates': [-73.96590294, 40.71285887],\n",
      "                          'type': 'Point'},\n",
      " 'end station name': 'S 4 St & Wythe Ave',\n",
      " 'gender': 0,\n",
      " 'start station id': 460,\n",
      " 'start station location': {'coordinates': [-73.96590294, 40.71285887],\n",
      "                            'type': 'Point'},\n",
      " 'start station name': 'S 4 St & Wythe Ave',\n",
      " 'start time': datetime.datetime(2016, 1, 2, 11, 49, 11),\n",
      " 'stop time': datetime.datetime(2016, 1, 2, 11, 50, 18),\n",
      " 'tripduration': 66,\n",
      " 'usertype': 'Customer'}\n"
     ]
    }
   ],
   "source": [
    "# lets use equal operator and implicit equal operator.\n",
    "\n",
    "eq= db.trips.find({'tripduration': {\"$lte\": 70}, \"usertype\": {\"$eq\": \"Customer\"}})\n",
    "\n",
    "for i in eq:\n",
    "    pprint(i)"
   ]
  },
  {
   "cell_type": "code",
   "execution_count": 14,
   "metadata": {},
   "outputs": [
    {
     "name": "stdout",
     "output_type": "stream",
     "text": [
      "{'_id': ObjectId('572bb8232b288919b68af7cd'),\n",
      " 'bikeid': 23779,\n",
      " 'birth year': '',\n",
      " 'end station id': 460,\n",
      " 'end station location': {'coordinates': [-73.96590294, 40.71285887],\n",
      "                          'type': 'Point'},\n",
      " 'end station name': 'S 4 St & Wythe Ave',\n",
      " 'gender': 0,\n",
      " 'start station id': 460,\n",
      " 'start station location': {'coordinates': [-73.96590294, 40.71285887],\n",
      "                            'type': 'Point'},\n",
      " 'start station name': 'S 4 St & Wythe Ave',\n",
      " 'start time': datetime.datetime(2016, 1, 2, 11, 49, 11),\n",
      " 'stop time': datetime.datetime(2016, 1, 2, 11, 50, 18),\n",
      " 'tripduration': 66,\n",
      " 'usertype': 'Customer'}\n"
     ]
    }
   ],
   "source": [
    "# implicit equal operator\n",
    "\n",
    "ieq= db.trips.find({\"tripduration\": {\"$lte\": 70}, \"usertype\": \"Customer\"})\n",
    "\n",
    "for i in ieq:\n",
    "    pprint(i)"
   ]
  },
  {
   "cell_type": "code",
   "execution_count": 15,
   "metadata": {},
   "outputs": [
    {
     "name": "stdout",
     "output_type": "stream",
     "text": [
      "8065\n"
     ]
    },
    {
     "name": "stderr",
     "output_type": "stream",
     "text": [
      "C:\\Users\\PC\\anaconda3\\lib\\site-packages\\ipykernel_launcher.py:3: DeprecationWarning: count is deprecated. Use Collection.count_documents instead.\n",
      "  This is separate from the ipykernel package so we can avoid doing imports until\n"
     ]
    }
   ],
   "source": [
    "# How many documents in the sample_training.zips collection have fewer than 1000 people listed in the pop field?\n",
    "\n",
    "zip= db.zips.find({\"pop\":{\"$lt\": 1000}}).count()\n",
    "\n",
    "print(zip)"
   ]
  },
  {
   "cell_type": "code",
   "execution_count": 17,
   "metadata": {},
   "outputs": [
    {
     "name": "stderr",
     "output_type": "stream",
     "text": [
      "C:\\Users\\PC\\anaconda3\\lib\\site-packages\\ipykernel_launcher.py:3: DeprecationWarning: count is deprecated. Use Collection.count_documents instead.\n",
      "  This is separate from the ipykernel package so we can avoid doing imports until\n"
     ]
    },
    {
     "name": "stdout",
     "output_type": "stream",
     "text": [
      "6\n"
     ]
    }
   ],
   "source": [
    "# What is the difference between the number of people born in 1998 and the number of people born after 1998 in the sample_training.trips collection?\n",
    "\n",
    "born = db.trips.find({\"birth year\": {\"$gt\": 1998}}).count() - db.trips.find({\"birth year\": 1998}).count()\n",
    "\n",
    "print(born)"
   ]
  },
  {
   "cell_type": "markdown",
   "metadata": {},
   "source": [
    "# Logic Operator\n",
    "\n",
    "\"$and\" = matched all of the specified Query Clauses\n",
    "\"$or\" = At least one of the Query Clause is matched\n",
    "\"$nor\" = Failed to match both given Clauses\n",
    "\"$not\" = Negate the Query requirement"
   ]
  },
  {
   "cell_type": "raw",
   "metadata": {},
   "source": [
    "Syntex : {<operator>: [{statment 1}, {statement 2}, ...]}"
   ]
  },
  {
   "cell_type": "code",
   "execution_count": 18,
   "metadata": {},
   "outputs": [
    {
     "name": "stdout",
     "output_type": "stream",
     "text": [
      "{'_id': ObjectId('56e9b39b732b6122f877fa31'),\n",
      " 'airline': {'alias': '2B', 'iata': 'ARD', 'id': 410, 'name': 'Aerocondor'},\n",
      " 'airplane': 'CR2',\n",
      " 'codeshare': '',\n",
      " 'dst_airport': 'KZN',\n",
      " 'src_airport': 'CEK',\n",
      " 'stops': 0}\n",
      "{'_id': ObjectId('56e9b39b732b6122f877fa32'),\n",
      " 'airline': {'alias': '2B', 'iata': 'ARD', 'id': 410, 'name': 'Aerocondor'},\n",
      " 'airplane': 'CR2',\n",
      " 'codeshare': '',\n",
      " 'dst_airport': 'KZN',\n",
      " 'src_airport': 'ASF',\n",
      " 'stops': 0}\n",
      "{'_id': ObjectId('56e9b39b732b6122f877fa34'),\n",
      " 'airline': {'alias': '2B', 'iata': 'ARD', 'id': 410, 'name': 'Aerocondor'},\n",
      " 'airplane': 'CR2',\n",
      " 'codeshare': '',\n",
      " 'dst_airport': 'KZN',\n",
      " 'src_airport': 'DME',\n",
      " 'stops': 0}\n",
      "{'_id': ObjectId('56e9b39b732b6122f877fa38'),\n",
      " 'airline': {'alias': '2B', 'iata': 'ARD', 'id': 410, 'name': 'Aerocondor'},\n",
      " 'airplane': 'CR2',\n",
      " 'codeshare': '',\n",
      " 'dst_airport': 'KZN',\n",
      " 'src_airport': 'AER',\n",
      " 'stops': 0}\n",
      "{'_id': ObjectId('56e9b39b732b6122f877fa3b'),\n",
      " 'airline': {'alias': '2B', 'iata': 'ARD', 'id': 410, 'name': 'Aerocondor'},\n",
      " 'airplane': 'CR2',\n",
      " 'codeshare': '',\n",
      " 'dst_airport': 'KZN',\n",
      " 'src_airport': 'EGO',\n",
      " 'stops': 0}\n",
      "{'_id': ObjectId('56e9b39b732b6122f877fa3e'),\n",
      " 'airline': {'alias': '2B', 'iata': 'ARD', 'id': 410, 'name': 'Aerocondor'},\n",
      " 'airplane': 'CR2',\n",
      " 'codeshare': '',\n",
      " 'dst_airport': 'AER',\n",
      " 'src_airport': 'KZN',\n",
      " 'stops': 0}\n",
      "{'_id': ObjectId('56e9b39b732b6122f877fa3f'),\n",
      " 'airline': {'alias': '2B', 'iata': 'ARD', 'id': 410, 'name': 'Aerocondor'},\n",
      " 'airplane': 'CR2',\n",
      " 'codeshare': '',\n",
      " 'dst_airport': 'ASF',\n",
      " 'src_airport': 'KZN',\n",
      " 'stops': 0}\n",
      "{'_id': ObjectId('56e9b39b732b6122f877fa40'),\n",
      " 'airline': {'alias': '2B', 'iata': 'ARD', 'id': 410, 'name': 'Aerocondor'},\n",
      " 'airplane': 'CR2',\n",
      " 'codeshare': '',\n",
      " 'dst_airport': 'CEK',\n",
      " 'src_airport': 'KZN',\n",
      " 'stops': 0}\n",
      "{'_id': ObjectId('56e9b39b732b6122f877fa41'),\n",
      " 'airline': {'alias': '2B', 'iata': 'ARD', 'id': 410, 'name': 'Aerocondor'},\n",
      " 'airplane': 'CR2',\n",
      " 'codeshare': '',\n",
      " 'dst_airport': 'DME',\n",
      " 'src_airport': 'KZN',\n",
      " 'stops': 0}\n",
      "{'_id': ObjectId('56e9b39b732b6122f877fa42'),\n",
      " 'airline': {'alias': '2B', 'iata': 'ARD', 'id': 410, 'name': 'Aerocondor'},\n",
      " 'airplane': 'CR2',\n",
      " 'codeshare': '',\n",
      " 'dst_airport': 'EGO',\n",
      " 'src_airport': 'KZN',\n",
      " 'stops': 0}\n",
      "{'_id': ObjectId('56e9b39b732b6122f877fa43'),\n",
      " 'airline': {'alias': '2B', 'iata': 'ARD', 'id': 410, 'name': 'Aerocondor'},\n",
      " 'airplane': 'CR2',\n",
      " 'codeshare': '',\n",
      " 'dst_airport': 'LED',\n",
      " 'src_airport': 'KZN',\n",
      " 'stops': 0}\n",
      "{'_id': ObjectId('56e9b39b732b6122f877fa44'),\n",
      " 'airline': {'alias': '2B', 'iata': 'ARD', 'id': 410, 'name': 'Aerocondor'},\n",
      " 'airplane': 'CR2',\n",
      " 'codeshare': '',\n",
      " 'dst_airport': 'SVX',\n",
      " 'src_airport': 'KZN',\n",
      " 'stops': 0}\n",
      "{'_id': ObjectId('56e9b39b732b6122f877fa45'),\n",
      " 'airline': {'alias': '2B', 'iata': 'ARD', 'id': 410, 'name': 'Aerocondor'},\n",
      " 'airplane': 'CR2',\n",
      " 'codeshare': '',\n",
      " 'dst_airport': 'KZN',\n",
      " 'src_airport': 'LED',\n",
      " 'stops': 0}\n",
      "{'_id': ObjectId('56e9b39b732b6122f877fa52'),\n",
      " 'airline': {'alias': '2B', 'iata': 'ARD', 'id': 410, 'name': 'Aerocondor'},\n",
      " 'airplane': 'CR2',\n",
      " 'codeshare': '',\n",
      " 'dst_airport': 'KZN',\n",
      " 'src_airport': 'SVX',\n",
      " 'stops': 0}\n",
      "{'_id': ObjectId('56e9b39c732b6122f87868bc'),\n",
      " 'airline': {'alias': 'FV',\n",
      "             'iata': 'SDM',\n",
      "             'id': 641,\n",
      "             'name': 'Rossiya-Russian Airlines'},\n",
      " 'airplane': 'A81',\n",
      " 'codeshare': '',\n",
      " 'dst_airport': 'LED',\n",
      " 'src_airport': 'KZN',\n",
      " 'stops': 0}\n",
      "{'_id': ObjectId('56e9b39c732b6122f87868be'),\n",
      " 'airline': {'alias': 'FV',\n",
      "             'iata': 'SDM',\n",
      "             'id': 641,\n",
      "             'name': 'Rossiya-Russian Airlines'},\n",
      " 'airplane': 'A81',\n",
      " 'codeshare': '',\n",
      " 'dst_airport': 'KZN',\n",
      " 'src_airport': 'LED',\n",
      " 'stops': 0}\n",
      "{'_id': ObjectId('56e9b39c732b6122f878c0f9'),\n",
      " 'airline': {'alias': 'SU',\n",
      "             'iata': 'AFL',\n",
      "             'id': 130,\n",
      "             'name': 'Aeroflot Russian Airlines'},\n",
      " 'airplane': 'A81',\n",
      " 'codeshare': '',\n",
      " 'dst_airport': 'LED',\n",
      " 'src_airport': 'KZN',\n",
      " 'stops': 0}\n",
      "{'_id': ObjectId('56e9b39c732b6122f878c120'),\n",
      " 'airline': {'alias': 'SU',\n",
      "             'iata': 'AFL',\n",
      "             'id': 130,\n",
      "             'name': 'Aeroflot Russian Airlines'},\n",
      " 'airplane': 'A81',\n",
      " 'codeshare': '',\n",
      " 'dst_airport': 'KZN',\n",
      " 'src_airport': 'LED',\n",
      " 'stops': 0}\n"
     ]
    }
   ],
   "source": [
    "# Find all documents where airplanes CR2 or A81 left or landed in the KZN airport:\n",
    "\n",
    "route= db.routes.find({\"$and\": [{\"$or\": [{\"dst_airport\": \"KZN\"}, {\"src_airport\": \"KZN\"}]}, {\"$or\": [{\"airplane\": \"CR2\"}, {\"airplane\": \"A81\"}]}]})\n",
    "\n",
    "for r in route:\n",
    "    pprint(r)"
   ]
  },
  {
   "cell_type": "code",
   "execution_count": 22,
   "metadata": {},
   "outputs": [
    {
     "name": "stdout",
     "output_type": "stream",
     "text": [
      "{'_id': ObjectId('56d61033a378eccde8a8366f'),\n",
      " 'address': {'city': 'BROOKLYN',\n",
      "             'number': 4702,\n",
      "             'street': 'AVENUE N',\n",
      "             'zip': 11234},\n",
      " 'business_name': 'CHAMPION CONTRACTING NY CORP.',\n",
      " 'certificate_number': 9259947,\n",
      " 'date': 'May 15 2015',\n",
      " 'id': '19806-2015-ENFO',\n",
      " 'result': 'Out of Business',\n",
      " 'sector': 'Home Improvement Contractor - 100'}\n",
      "{'_id': ObjectId('56d61033a378eccde8a836c1'),\n",
      " 'address': {'city': 'BAYSIDE',\n",
      "             'number': 20003,\n",
      "             'street': '32ND AVE',\n",
      "             'zip': 11361},\n",
      " 'business_name': 'B & D HOLDING GROUP INC.  BULLFROG REMODELING',\n",
      " 'certificate_number': 9295108,\n",
      " 'date': 'Jun 17 2015',\n",
      " 'id': '22858-2015-ENFO',\n",
      " 'result': 'Out of Business',\n",
      " 'sector': 'Home Improvement Contractor - 100'}\n",
      "{'_id': ObjectId('56d61033a378eccde8a83da0'),\n",
      " 'address': {'city': 'NEW YORK',\n",
      "             'number': 425,\n",
      "             'street': 'E 72ND ST',\n",
      "             'zip': 10021},\n",
      " 'business_name': 'MECTEC NYC INC.',\n",
      " 'certificate_number': 9318161,\n",
      " 'date': 'Nov 18 2015',\n",
      " 'id': '63875-2015-ENFO',\n",
      " 'result': 'Out of Business',\n",
      " 'sector': 'Home Improvement Contractor - 100'}\n",
      "{'_id': ObjectId('56d61033a378eccde8a83ebe'),\n",
      " 'address': {'city': 'NEW YORK',\n",
      "             'number': 87,\n",
      "             'street': 'CLINTON ST',\n",
      "             'zip': 10002},\n",
      " 'business_name': \"BIG JOE'S GENERAL RENOVATION & REMODELING CORP.\",\n",
      " 'certificate_number': 9301844,\n",
      " 'date': 'Mar  4 2015',\n",
      " 'id': '7654-2015-ENFO',\n",
      " 'result': 'Out of Business',\n",
      " 'sector': 'Home Improvement Contractor - 100'}\n"
     ]
    }
   ],
   "source": [
    "# How many businesses in the sample_training.inspections dataset have the inspection result \"Out of Business\" and belong to the \"Home Improvement Contractor - 100\" sector?\n",
    "\n",
    "inspect= db.inspections.find({\"result\": \"Out of Business\", \"sector\": \"Home Improvement Contractor - 100\"})\n",
    "\n",
    "for i in inspect:\n",
    "    pprint(i)"
   ]
  },
  {
   "cell_type": "code",
   "execution_count": 25,
   "metadata": {},
   "outputs": [
    {
     "name": "stdout",
     "output_type": "stream",
     "text": [
      "4\n"
     ]
    },
    {
     "name": "stderr",
     "output_type": "stream",
     "text": [
      "C:\\Users\\PC\\anaconda3\\lib\\site-packages\\ipykernel_launcher.py:1: DeprecationWarning: count is deprecated. Use Collection.count_documents instead.\n",
      "  \"\"\"Entry point for launching an IPython kernel.\n"
     ]
    }
   ],
   "source": [
    "inspect_count= db.inspections.find({\"result\": \"Out of Business\", \"sector\": \"Home Improvement Contractor - 100\"}).count()\n",
    "\n",
    "print(inspect_count)"
   ]
  },
  {
   "cell_type": "code",
   "execution_count": 26,
   "metadata": {},
   "outputs": [
    {
     "name": "stdout",
     "output_type": "stream",
     "text": [
      "11193\n"
     ]
    },
    {
     "name": "stderr",
     "output_type": "stream",
     "text": [
      "C:\\Users\\PC\\anaconda3\\lib\\site-packages\\ipykernel_launcher.py:5: DeprecationWarning: count is deprecated. Use Collection.count_documents instead.\n",
      "  \"\"\"\n"
     ]
    }
   ],
   "source": [
    "# How many zips in the sample_training.zips dataset are neither over-populated nor under-populated?\n",
    "\n",
    "#In this case, we consider population of more than 1,000,000 to be over- populated and less than 5,000 to be under-populated.\n",
    "\n",
    "popu= db.zips.find({\"$nor\": [{\"pop\": {\"$gt\": 1000000}}, {\"pop\":{\"$lt\": 5000}}]}).count()\n",
    "\n",
    "print(popu)"
   ]
  },
  {
   "cell_type": "code",
   "execution_count": 31,
   "metadata": {},
   "outputs": [
    {
     "name": "stdout",
     "output_type": "stream",
     "text": [
      "149\n"
     ]
    },
    {
     "name": "stderr",
     "output_type": "stream",
     "text": [
      "C:\\Users\\PC\\anaconda3\\lib\\site-packages\\ipykernel_launcher.py:4: DeprecationWarning: count is deprecated. Use Collection.count_documents instead.\n",
      "  after removing the cwd from sys.path.\n"
     ]
    }
   ],
   "source": [
    "# How many companies in the sample_training.companies dataset were either founded in 2004, or in the month of October and \n",
    "# either have the social category_code or web category_code?\n",
    "\n",
    "company= db.companies.find({\"$and\": [{\"$or\": [{\"founded_year\": 2004}, {\"founded_month\": 10}]}, {\"$or\": [{\"category_code\": \"social\"}, {\"category_code\": \"web\"}]}]}).count()\n",
    "\n",
    "#route= db.routes.find({\"$and\": [{\"$or\": [{\"dst_airport\": \"KZN\"}, {\"src_airport\": \"KZN\"}]}, {\"$or\": [{\"airplane\": \"CR2\"}, {\"airplane\": \"A81\"}]}]})\n",
    "\n",
    "print(company)"
   ]
  },
  {
   "cell_type": "code",
   "execution_count": null,
   "metadata": {},
   "outputs": [],
   "source": []
  }
 ],
 "metadata": {
  "kernelspec": {
   "display_name": "Python 3",
   "language": "python",
   "name": "python3"
  },
  "language_info": {
   "codemirror_mode": {
    "name": "ipython",
    "version": 3
   },
   "file_extension": ".py",
   "mimetype": "text/x-python",
   "name": "python",
   "nbconvert_exporter": "python",
   "pygments_lexer": "ipython3",
   "version": "3.7.6"
  }
 },
 "nbformat": 4,
 "nbformat_minor": 4
}
